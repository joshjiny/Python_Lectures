{
 "cells": [
  {
   "cell_type": "markdown",
   "metadata": {},
   "source": [
    "### Hello World"
   ]
  },
  {
   "cell_type": "code",
   "execution_count": 2,
   "metadata": {},
   "outputs": [
    {
     "name": "stdout",
     "output_type": "stream",
     "text": [
      "hello world\n",
      "hello world hello world \n",
      "hello World\n",
      "hello World\n",
      "헬로 월드\n",
      "2222\n"
     ]
    }
   ],
   "source": [
    "# -*- coding: utf-8 -*-\n",
    "\n",
    "print (\"hello world\")\n",
    "print (\"hello world \"*2)\n",
    "print (\"hello\" + \" World\")\n",
    "print (\"hello\", \"World\")\n",
    "print (\"헬로 월드\")\n",
    "print (\"2\"*4)"
   ]
  },
  {
   "cell_type": "markdown",
   "metadata": {},
   "source": [
    "### 정규표현식 실습"
   ]
  },
  {
   "cell_type": "code",
   "execution_count": 1,
   "metadata": {},
   "outputs": [
    {
     "name": "stdout",
     "output_type": "stream",
     "text": [
      "다스베이더\n"
     ]
    }
   ],
   "source": [
    "# Ref: 정규표현식 https://goo.gl/r4xz6m\n",
    "\n",
    "# 따옴표(')로 둘러쌓인 부분에 원하는 정규표현식을 적습니다.\n",
    "regex = r'[가-힣]+'\n",
    "\n",
    "# 전화번호 0\\d{1,2}[ -]?\\d{3,4}[ -]?\\d{3,4}\n",
    "# 숫자 \\d\n",
    "# 특수문자 제외한 문자 \\w   (언더바는 포함)\n",
    "#  \\d+라고 쓰면 \"하나 혹은 그 이상 연결된 숫자\"\n",
    "# 자연수 [1-9]\\d*\n",
    "# 전화번호에 - 여부와 상관없이 유효성 체크 \\d+-?\\d+-?\\d+\n",
    "# 전화번호 길이까지 지정해주는 정규식 \\d{2,3}[- ]?\\d{3,4}[- ]?\\d{4}\n",
    "# 영어 알파벳중에 소문자 모음(a,e,i,o,u)만 골라서 보고 싶을때 [aeiou]\n",
    "# 영어 알파벳 소문자 전부 [a-z]\n",
    "# 모든 한글 [가-힣]+\n",
    "# \\s 공백문자(스페이스, 탭, 뉴라인)\n",
    "# \\S 공백문자를 제외한 문자\n",
    "# \\D 숫자를 제외한 문자\n",
    "# \\W 글자 대표문자를 제외한 글자들(특수문자, 공백 등)\n",
    "\n",
    "\n",
    "search_target = '''Luke Skywarker 02-123-4567 luke@daum.net\n",
    "다스베이더 070-9999-9999 darth_vader@gmail.com\n",
    "princess leia 010 2454 3457 leia@gmail.com ㅏㅇㄱㄱㅎ'''\n",
    "\n",
    "# 정규표현식과 일치하는 부분을 모두 찾아주는 파이썬 코드입니다.\n",
    "import re\n",
    "result = re.findall(regex, search_target)\n",
    "print(\"\\n\".join(result))"
   ]
  },
  {
   "cell_type": "markdown",
   "metadata": {},
   "source": [
    "### Data Structure"
   ]
  },
  {
   "cell_type": "code",
   "execution_count": 1,
   "metadata": {},
   "outputs": [
    {
     "name": "stdout",
     "output_type": "stream",
     "text": [
      "I have 4 items to purchase.\n",
      "These items are: apple mango carrot banana \n",
      "I also have to buy rice.\n",
      "My shopping list is now ['apple', 'mango', 'carrot', 'banana', 'rice']\n",
      "I will sort my list now\n",
      "Sorted shopping list is ['apple', 'banana', 'carrot', 'mango', 'rice']\n",
      "The first item I will buy is apple\n",
      "I bought the apple\n",
      "My shopping list is now ['banana', 'carrot', 'mango', 'rice']\n"
     ]
    }
   ],
   "source": [
    "### ds_using_list.py\n",
    "# This is my shopping list\n",
    "shoplist = ['apple', 'mango', 'carrot', 'banana']\n",
    "\n",
    "print('I have', len(shoplist), 'items to purchase.')\n",
    "\n",
    "print('These items are:', end=' ')\n",
    "for item in shoplist:\n",
    "    print(item, end=' ')\n",
    "\n",
    "print('\\nI also have to buy rice.')\n",
    "shoplist.append('rice')\n",
    "print('My shopping list is now', shoplist)\n",
    "\n",
    "print('I will sort my list now')\n",
    "shoplist.sort()\n",
    "print('Sorted shopping list is', shoplist)\n",
    "\n",
    "print('The first item I will buy is', shoplist[0])\n",
    "olditem = shoplist[0]\n",
    "del shoplist[0]\n",
    "print('I bought the', olditem)\n",
    "print('My shopping list is now', shoplist)"
   ]
  },
  {
   "cell_type": "code",
   "execution_count": 2,
   "metadata": {},
   "outputs": [
    {
     "name": "stdout",
     "output_type": "stream",
     "text": [
      "Number of animals in the zoo is 3\n",
      "Number of cages in the new zoo is 3\n",
      "All animals in new zoo are ('monkey', 'camel', ('python', 'elephant', 'penguin'))\n",
      "Animals brought from old zoo are ('python', 'elephant', 'penguin')\n",
      "Last animal brought from old zoo is penguin\n",
      "Number of animals in the new zoo is 5\n"
     ]
    }
   ],
   "source": [
    "### ds_using_tuple.py\n",
    "\n",
    "# I would recommend always using parentheses\n",
    "# to indicate start and end of tuple\n",
    "# even though parentheses are optional.\n",
    "# Explicit is better than implicit.\n",
    "zoo = ('python', 'elephant', 'penguin')\n",
    "print('Number of animals in the zoo is', len(zoo))\n",
    "\n",
    "new_zoo = 'monkey', 'camel', zoo\n",
    "print('Number of cages in the new zoo is', len(new_zoo))\n",
    "print('All animals in new zoo are', new_zoo)\n",
    "print('Animals brought from old zoo are', new_zoo[2])\n",
    "print('Last animal brought from old zoo is', new_zoo[2][2])\n",
    "# 라인이 길어지는 걸 방지하기 위함 /\n",
    "# 내부 튜플 자체가 len 함수에 포함되었기에 -1\n",
    "print('Number of animals in the new zoo is', \\\n",
    "    len(new_zoo)-1+len(new_zoo[2])) "
   ]
  },
  {
   "cell_type": "code",
   "execution_count": 3,
   "metadata": {},
   "outputs": [
    {
     "name": "stdout",
     "output_type": "stream",
     "text": [
      "Swaroop's address is swaroop@swaroopch.com\n",
      "\n",
      "There are 3 contacts in the address-book\n",
      "\n",
      "Contact Swaroop at swaroop@swaroopch.com\n",
      "Contact Larry at larry@wall.org\n",
      "Contact Matsumoto at matz@ruby-lang.org\n",
      "\n",
      "Guido's address is guido@python.org\n",
      "{'Swaroop': 'swaroop@swaroopch.com', 'Larry': 'larry@wall.org', 'Matsumoto': 'matz@ruby-lang.org', 'Guido': 'guido@python.org', '맹윤호': 'yunho0130@gmail.com'}\n",
      "Swaroop : swaroop@swaroopch.com\n",
      "Larry : larry@wall.org\n",
      "Matsumoto : matz@ruby-lang.org\n",
      "Guido : guido@python.org\n",
      "맹윤호 : yunho0130@gmail.com\n"
     ]
    }
   ],
   "source": [
    "### ds_using_dict.py\n",
    "# 'ab' is short for 'a'ddress'b'ook\n",
    "\n",
    "ab = {  'Swaroop'   : 'swaroop@swaroopch.com',\n",
    "        'Larry'     : 'larry@wall.org',\n",
    "        'Matsumoto' : 'matz@ruby-lang.org',\n",
    "        'Spammer'   : 'spammer@hotmail.com',\n",
    "     }\n",
    "\n",
    "print(\"Swaroop's address is\", ab['Swaroop'])\n",
    "\n",
    "# Deleting a key-value pair\n",
    "del ab['Spammer']\n",
    "\n",
    "print('\\nThere are {} contacts in the address-book\\n'.format(len(ab)))\n",
    "\n",
    "for name, address in list(ab.items()):\n",
    "    print('Contact {} at {}'.format(name, address))\n",
    "\n",
    "# Adding a key-value pair\n",
    "ab['Guido'] = 'guido@python.org'\n",
    "\n",
    "if 'Guido' in ab:\n",
    "    print(\"\\nGuido's address is\", ab['Guido'])\n",
    "\n",
    "ab['맹윤호'] = 'yunho0130@gmail.com'\n",
    "\n",
    "print(ab)\n",
    "\n",
    "for i,j in list(ab.items()):\n",
    "    print(i,':', j)"
   ]
  },
  {
   "cell_type": "code",
   "execution_count": 4,
   "metadata": {},
   "outputs": [
    {
     "name": "stdout",
     "output_type": "stream",
     "text": [
      "{'brazil', 'india', 'russia'}\n",
      "<class 'set'>\n",
      "True\n",
      "False\n",
      "True\n",
      "{'brazil', 'india'}\n",
      "{'brazil', 'india', 'china', 'russia'}\n",
      "{'brazil', 'india'}\n"
     ]
    }
   ],
   "source": [
    "### ds_using_set.py\n",
    "bri = set(['brazil', 'russia', 'india'])\n",
    "\n",
    "print(bri)\n",
    "print(type(bri))\n",
    "\n",
    "print('india' in bri)\n",
    "print('usa' in bri)\n",
    "\n",
    "# frozen set이 아니기 때문에 mutable로 처리되어 deep copy 필요 \n",
    "bric = bri.copy() \n",
    "#bric = bri\n",
    "bric.add('china')\n",
    "bric.add('china') # 중복되는 값은 추가되지 않음\n",
    "print(bric.issuperset(bri))\n",
    "\n",
    "bri.remove('russia')\n",
    "print(bri)\n",
    "print(bric)\n",
    "\n",
    "print(bri & bric)"
   ]
  },
  {
   "cell_type": "markdown",
   "metadata": {},
   "source": [
    "### Control Flow"
   ]
  },
  {
   "cell_type": "code",
   "execution_count": 5,
   "metadata": {},
   "outputs": [
    {
     "name": "stdout",
     "output_type": "stream",
     "text": [
      "Enter an integer : 23\n",
      "Congratulations, you guessed it.\n",
      "(but you do not win any prizes!)\n",
      "Done\n"
     ]
    }
   ],
   "source": [
    "### if.py \n",
    "number = 23\n",
    "guess = int(input('Enter an integer : '))\n",
    "\n",
    "if guess == number:\n",
    "    # New block starts here\n",
    "    print('Congratulations, you guessed it.')\n",
    "    print('(but you do not win any prizes!)')\n",
    "    # New block ends here\n",
    "elif guess < number:\n",
    "    # Another block\n",
    "    print('No, it is a little higher than that')\n",
    "    # You can do whatever you want in a block ...\n",
    "else:\n",
    "    print('No, it is a little lower than that')\n",
    "    # you must have guessed > number to reach here\n",
    "\n",
    "print('Done')\n",
    "# This last statement is always executed,\n",
    "# after the if statement is executed.\n"
   ]
  },
  {
   "cell_type": "code",
   "execution_count": 6,
   "metadata": {},
   "outputs": [
    {
     "name": "stdout",
     "output_type": "stream",
     "text": [
      "1\n",
      "2\n",
      "3\n",
      "4\n",
      "The for loop is over\n"
     ]
    }
   ],
   "source": [
    "### for.py\n",
    "for i in range(1, 5):\n",
    "    print(i)\n",
    "else:\n",
    "    print('The for loop is over')"
   ]
  },
  {
   "cell_type": "code",
   "execution_count": 7,
   "metadata": {},
   "outputs": [
    {
     "name": "stdout",
     "output_type": "stream",
     "text": [
      "Enter an integer : 24\n",
      "No, it is a little higher than that.\n",
      "Enter an integer : 34\n",
      "Congratulations, you guessed it.\n",
      "The while loop is over.\n",
      "Done\n"
     ]
    }
   ],
   "source": [
    "### while.py\n",
    "number = 34\n",
    "running = True\n",
    "\n",
    "while running:\n",
    "    guess = int(input('Enter an integer : '))\n",
    "\n",
    "    if guess == number:\n",
    "        print('Congratulations, you guessed it.')\n",
    "        # this causes the while loop to stop\n",
    "        running = False\n",
    "    elif guess < number:\n",
    "        print('No, it is a little higher than that.')\n",
    "    else:\n",
    "        print('No, it is a little lower than that.')\n",
    "\n",
    "print('The while loop is over.')\n",
    "    # Do anything else you want to do here\n",
    "\n",
    "print('Done')"
   ]
  },
  {
   "cell_type": "code",
   "execution_count": 8,
   "metadata": {},
   "outputs": [
    {
     "name": "stdout",
     "output_type": "stream",
     "text": [
      "ver 1.2\n",
      "Enter something : quit\n"
     ]
    }
   ],
   "source": [
    "### continue.py\n",
    "print(\"ver 1.2\")\n",
    "while True:\n",
    "    s = input('Enter something : ')\n",
    "    if s == 'quit':\n",
    "        break\n",
    "    if len(s) < 3:\n",
    "        print('Too small')\n",
    "        print('continue expression before')\n",
    "        continue\n",
    "        print('continue expression after')\n",
    "    print('Input is of sufficient length')\n",
    "    # Do other kinds of processing here..."
   ]
  },
  {
   "cell_type": "code",
   "execution_count": 9,
   "metadata": {},
   "outputs": [
    {
     "name": "stdout",
     "output_type": "stream",
     "text": [
      "Enter something : abcd\n",
      "Length of the string is 4\n",
      "Enter something : quit\n",
      "Done\n"
     ]
    }
   ],
   "source": [
    "### break.py\n",
    "def while_eg():\n",
    "    while True:\n",
    "        s = input('Enter something : ')\n",
    "        if s == 'quit':\n",
    "            break \n",
    "        print('Length of the string is', len(s))\n",
    "    print('Done')\n",
    "    \n",
    "while_eg()"
   ]
  },
  {
   "cell_type": "code",
   "execution_count": 10,
   "metadata": {},
   "outputs": [
    {
     "name": "stdout",
     "output_type": "stream",
     "text": [
      "x is 50\n",
      "Changed global x to 2\n",
      "Value of x is 2\n"
     ]
    }
   ],
   "source": [
    "### function_global.py\n",
    "x = 50\n",
    "\n",
    "def func():\n",
    "    global x\n",
    "\n",
    "    print('x is', x)\n",
    "    x = 2\n",
    "    print('Changed global x to', x)\n",
    "\n",
    "func()\n",
    "print('Value of x is', x)"
   ]
  },
  {
   "cell_type": "markdown",
   "metadata": {},
   "source": [
    "### Exception & File I/O"
   ]
  },
  {
   "cell_type": "code",
   "execution_count": null,
   "metadata": {},
   "outputs": [],
   "source": [
    "### exception_NotAllowedUserName.py\n",
    "class NotAllowedUserName(Exception):\n",
    "    def __str__(self):\n",
    "        return \"허용되지 않은 계정명입니다.\"\n",
    "\n",
    "def register_nick(nick):\n",
    "    # 비속어 닉네임\n",
    "    if nick == '바보':\n",
    "        raise NotAllowedUserName()\n",
    "    # 불건전한 닉네임\n",
    "    elif nick == '19금':\n",
    "        raise NotAllowedUserName()\n",
    "    # 운영자 사칭\n",
    "    elif nick == '운영자':\n",
    "        raise NotAllowedUserName()\n",
    "    else:\n",
    "        print('계정이 생성되었습니다. 계정명은 {} 입니다.'.format(nick))\n",
    "try:\n",
    "    register_nick('바보')\n",
    "#    register_nick('새로운 유저')\n",
    "#    register_nick('19금')\n",
    "except NotAllowedUserName as e:\n",
    "    print(e)"
   ]
  },
  {
   "cell_type": "code",
   "execution_count": null,
   "metadata": {},
   "outputs": [],
   "source": [
    "### io_csv.py\n",
    "## Import from Google Colab\n",
    "import pandas as pd\n",
    "file_name = \"/content/wos-core_SCIE.csv\"\n",
    "df = pd.read_csv(file_name)\n",
    "# df = pd.read_csv(file_name, encoding='euc-kr')\n",
    "df.head()"
   ]
  },
  {
   "cell_type": "code",
   "execution_count": 9,
   "metadata": {},
   "outputs": [
    {
     "name": "stdout",
     "output_type": "stream",
     "text": [
      "{'맹윤호': ['010-1234-4567', 'abcd@gmail.com', '서울시 OO로 123']}\n",
      "010-1234-4567\n",
      "abcd@gmail.com\n",
      "{'맹윤호': ['010-1234-4567', 'abcd@gmail.com', '서울시 OO로 123'], '홍길동': ['010-0000-0000', 'efgh@gmail.com', '서울시 XX로 456']}\n",
      "010-0000-0000\n",
      "efgh@gmail.com\n"
     ]
    }
   ],
   "source": [
    "### assignment.py\n",
    "# One line implimentation\n",
    "address_book = {\"맹윤호\": [\"010-1234-4567\", \"abcd@gmail.com\", \"서울시 OO로 123\"]}\n",
    "\n",
    "# Check Key & Values\n",
    "print(address_book)\n",
    "print(address_book[\"맹윤호\"][0])\n",
    "print(address_book[\"맹윤호\"][1])\n",
    "address_book[\"홍길동\"] = [\"010-0000-0000\", \"efgh@gmail.com\", \"서울시 XX로 456\"]\n",
    "print(address_book)\n",
    "print(address_book[\"홍길동\"][0])\n",
    "print(address_book[\"홍길동\"][1])"
   ]
  },
  {
   "cell_type": "code",
   "execution_count": null,
   "metadata": {},
   "outputs": [],
   "source": []
  }
 ],
 "metadata": {
  "kernelspec": {
   "display_name": "Python 3",
   "language": "python",
   "name": "python3"
  },
  "language_info": {
   "codemirror_mode": {
    "name": "ipython",
    "version": 3
   },
   "file_extension": ".py",
   "mimetype": "text/x-python",
   "name": "python",
   "nbconvert_exporter": "python",
   "pygments_lexer": "ipython3",
   "version": "3.7.7"
  }
 },
 "nbformat": 4,
 "nbformat_minor": 4
}
