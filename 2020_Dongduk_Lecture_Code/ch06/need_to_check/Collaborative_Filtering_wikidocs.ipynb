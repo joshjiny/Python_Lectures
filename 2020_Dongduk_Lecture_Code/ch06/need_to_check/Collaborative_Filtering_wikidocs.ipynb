{
  "nbformat": 4,
  "nbformat_minor": 0,
  "metadata": {
    "colab": {
      "name": "Collaborative Filtering_wikidocs.ipynb",
      "version": "0.3.2",
      "provenance": []
    },
    "kernelspec": {
      "name": "python3",
      "display_name": "Python 3"
    }
  },
  "cells": [
    {
      "metadata": {
        "id": "KNa8EPPR0z4K",
        "colab_type": "text"
      },
      "cell_type": "markdown",
      "source": [
        "References\n",
        "1. https://wikidocs.net/20238\n",
        "1. https://kutar37.tistory.com/39\n"
      ]
    },
    {
      "metadata": {
        "id": "QgQ9W2X20wbO",
        "colab_type": "code",
        "colab": {}
      },
      "cell_type": "code",
      "source": [
        "critics = {\n",
        "    'Lisa Rose': {\n",
        "        'Lady in the Water': 2.5,\n",
        "        'Snakes on a Plane': 3.5,\n",
        "        'Just My Luck': 3.0,\n",
        "        'Superman Returns': 3.5,\n",
        "        'You, Me and Dupree': 2.5,\n",
        "        'The Night Listener': 3.0\n",
        "    },\n",
        "\n",
        "    'Gene Seymour': {\n",
        "        'Lady in the Water': 3.0,\n",
        "        'Snakes on a Plane': 3.5,\n",
        "        'Just My Luck': 1.5,\n",
        "        'Superman Returns': 5.0,\n",
        "        'The Night Listener': 3.0,\n",
        "        'You, Me and Dupree': 3.5\n",
        "    },\n",
        "\n",
        "    'Michael Phillips': {\n",
        "        'Lady in the Water': 2.5,\n",
        "        'Snakes on a Plane': 3.5,\n",
        "        'Superman Returns': 3.5,\n",
        "        'The Night Listener': 4.0\n",
        "    },\n",
        "\n",
        "    'Claudia Puig': {\n",
        "        'Snakes on a Plane': 3.5,\n",
        "        'Just My Luck': 3.0,\n",
        "        'The Night Listener': 4.5,\n",
        "        'Superman Returns': 4.0,\n",
        "        'You, Me and Dupree': 2.5\n",
        "    },\n",
        "\n",
        "    'Mick LaSalle': {\n",
        "        'Lady in the Water': 3.0,\n",
        "        'Snakes on a Plane': 4.0,\n",
        "        'Just My Luck': 2.0,\n",
        "        'Superman Returns': 3.0,\n",
        "        'The Night Listener': 3.0,\n",
        "        'You, Me and Dupree': 2.0\n",
        "    },\n",
        "\n",
        "    'Jack Mattheuws': {\n",
        "        'Lady in the Water': 3.0,\n",
        "        'Snakes on a Plane': 4.0,\n",
        "        'The Night Listener': 3.0,\n",
        "        'Superman Returns': 5.0,\n",
        "        'You, Me and Dupree': 3.5\n",
        "    },\n",
        "\n",
        "    'Toby': {\n",
        "        'Snakes on a Plane': 4.5,\n",
        "        'You, Me and Dupree': 1.0,\n",
        "        'Superman Returns': 4.0\n",
        "    }\n",
        "}"
      ],
      "execution_count": 0,
      "outputs": []
    },
    {
      "metadata": {
        "id": "fsK_H4Yn0x6E",
        "colab_type": "code",
        "colab": {
          "base_uri": "https://localhost:8080/",
          "height": 204
        },
        "outputId": "ece11e41-985f-41a7-874a-b0470b05f62f"
      },
      "cell_type": "code",
      "source": [
        "import pandas as pd\n",
        "\n",
        "critics_df = pd.DataFrame(critics)\n",
        "critics_df.head()"
      ],
      "execution_count": 16,
      "outputs": [
        {
          "output_type": "execute_result",
          "data": {
            "text/html": [
              "<div>\n",
              "<style scoped>\n",
              "    .dataframe tbody tr th:only-of-type {\n",
              "        vertical-align: middle;\n",
              "    }\n",
              "\n",
              "    .dataframe tbody tr th {\n",
              "        vertical-align: top;\n",
              "    }\n",
              "\n",
              "    .dataframe thead th {\n",
              "        text-align: right;\n",
              "    }\n",
              "</style>\n",
              "<table border=\"1\" class=\"dataframe\">\n",
              "  <thead>\n",
              "    <tr style=\"text-align: right;\">\n",
              "      <th></th>\n",
              "      <th>Claudia Puig</th>\n",
              "      <th>Gene Seymour</th>\n",
              "      <th>Jack Mattheuws</th>\n",
              "      <th>Lisa Rose</th>\n",
              "      <th>Michael Phillips</th>\n",
              "      <th>Mick LaSalle</th>\n",
              "      <th>Toby</th>\n",
              "    </tr>\n",
              "  </thead>\n",
              "  <tbody>\n",
              "    <tr>\n",
              "      <th>Just My Luck</th>\n",
              "      <td>3.0</td>\n",
              "      <td>1.5</td>\n",
              "      <td>NaN</td>\n",
              "      <td>3.0</td>\n",
              "      <td>NaN</td>\n",
              "      <td>2.0</td>\n",
              "      <td>NaN</td>\n",
              "    </tr>\n",
              "    <tr>\n",
              "      <th>Lady in the Water</th>\n",
              "      <td>NaN</td>\n",
              "      <td>3.0</td>\n",
              "      <td>3.0</td>\n",
              "      <td>2.5</td>\n",
              "      <td>2.5</td>\n",
              "      <td>3.0</td>\n",
              "      <td>NaN</td>\n",
              "    </tr>\n",
              "    <tr>\n",
              "      <th>Snakes on a Plane</th>\n",
              "      <td>3.5</td>\n",
              "      <td>3.5</td>\n",
              "      <td>4.0</td>\n",
              "      <td>3.5</td>\n",
              "      <td>3.5</td>\n",
              "      <td>4.0</td>\n",
              "      <td>4.5</td>\n",
              "    </tr>\n",
              "    <tr>\n",
              "      <th>Superman Returns</th>\n",
              "      <td>4.0</td>\n",
              "      <td>5.0</td>\n",
              "      <td>5.0</td>\n",
              "      <td>3.5</td>\n",
              "      <td>3.5</td>\n",
              "      <td>3.0</td>\n",
              "      <td>4.0</td>\n",
              "    </tr>\n",
              "    <tr>\n",
              "      <th>The Night Listener</th>\n",
              "      <td>4.5</td>\n",
              "      <td>3.0</td>\n",
              "      <td>3.0</td>\n",
              "      <td>3.0</td>\n",
              "      <td>4.0</td>\n",
              "      <td>3.0</td>\n",
              "      <td>NaN</td>\n",
              "    </tr>\n",
              "  </tbody>\n",
              "</table>\n",
              "</div>"
            ],
            "text/plain": [
              "                    Claudia Puig  Gene Seymour  Jack Mattheuws  Lisa Rose  \\\n",
              "Just My Luck                 3.0           1.5             NaN        3.0   \n",
              "Lady in the Water            NaN           3.0             3.0        2.5   \n",
              "Snakes on a Plane            3.5           3.5             4.0        3.5   \n",
              "Superman Returns             4.0           5.0             5.0        3.5   \n",
              "The Night Listener           4.5           3.0             3.0        3.0   \n",
              "\n",
              "                    Michael Phillips  Mick LaSalle  Toby  \n",
              "Just My Luck                     NaN           2.0   NaN  \n",
              "Lady in the Water                2.5           3.0   NaN  \n",
              "Snakes on a Plane                3.5           4.0   4.5  \n",
              "Superman Returns                 3.5           3.0   4.0  \n",
              "The Night Listener               4.0           3.0   NaN  "
            ]
          },
          "metadata": {
            "tags": []
          },
          "execution_count": 16
        }
      ]
    },
    {
      "metadata": {
        "id": "-Cd9-Zoi17XN",
        "colab_type": "code",
        "colab": {}
      },
      "cell_type": "code",
      "source": [
        "# Euclidean Distance\n",
        "def sim_distance(prefs, person1, person2):\n",
        "    # 공통 항목 추출\n",
        "    si = dict()\n",
        "\n",
        "    for item in prefs[person1]:\n",
        "        if item in prefs[person2]:\n",
        "            si[item] = 1\n",
        "\n",
        "    # 공통 평가 항목이 없는 경우 0 리턴\n",
        "    if len(si) == 0: return 0\n",
        "\n",
        "    # person1의 item이 person2에서도 존재한다면, person1과 person2의 item 평점 차이의 제곱한 값을 더한 후 제곱 근을 계산\n",
        "    sum_of_squares = sum([(prefs[person1][item] - prefs[person2][item])**2 for item in prefs[person1] if item in prefs[person2]])\n",
        "\n",
        "    return 1/(1+sqrt(sum_of_squares))\n",
        "\n",
        "# Pearson correlation coefficient\n",
        "def sim_pearson(prefs, p1, p2):\n",
        "    # 같이 평가한 항목들의 목록을 구함\n",
        "    si = dict()\n",
        "\n",
        "    for item in prefs[p1]:\n",
        "        if item in prefs[p2]: si[item] = 1\n",
        "\n",
        "    # 공통 항목 개수\n",
        "    n = len(si)\n",
        "\n",
        "    # 공통 항목이 없으면 0 리턴\n",
        "    if n==0: return 0\n",
        "\n",
        "    # 모든 선호도를 합산\n",
        "    sum1 = sum([prefs[p1][it] for it in si])\n",
        "    sum2 = sum([prefs[p2][it] for it in si])\n",
        "\n",
        "    # 제곱의 합을 계산\n",
        "    sum1Sq = sum([(prefs[p1][it])**2 for it in si])\n",
        "    sum2Sq = sum([(prefs[p2][it])**2 for it in si])\n",
        "\n",
        "    # 곱의 합을 계산\n",
        "    pSum = sum([prefs[p1][it] * prefs[p2][it] for it in si])\n",
        "\n",
        "    # 피어슨 점수 계산\n",
        "    num = pSum - (sum1*sum2/n)\n",
        "    den = sqrt((sum1Sq-pow(sum1,2)/n) * (sum2Sq-pow(sum2,2)/n))\n",
        "    if den==0: return 0\n",
        "\n",
        "    r = num/den\n",
        "\n",
        "    return r\n",
        "\n",
        "# 선호도 dict에 최적의 상대편을 구함\n",
        "# 결과 개수와 유사도 함수는 옵션\n",
        "def top_matches(prefs, person, n=5, similarity=sim_pearson):\n",
        "    scores = [(similarity(prefs, person, other), other) for other in prefs if other!=person]\n",
        "\n",
        "    scores.sort()\n",
        "    scores.reverse()\n",
        "    return scores[:n]\n",
        "\n",
        "# 다른 사람과의 순위의 가중 평균값을 이용해서 특정 사람을 추천\n",
        "def get_recommendations(prefs, person, similarity=sim_pearson):\n",
        "    totals = dict()\n",
        "    simSums = dict()\n",
        "\n",
        "    for other in prefs:\n",
        "        # 나를 제외 하고\n",
        "        if other == person: continue\n",
        "        sim = similarity(prefs, person, other)  # person과 other 사이의 상관계수 점수를 구함\n",
        "\n",
        "        # 0 이하 점수는 무시\n",
        "        if sim<=0: continue\n",
        "\n",
        "        for item in prefs[other]:   # ohter가 본 영화들의 list\n",
        "            # 내가 보지 못한 영화만 대상\n",
        "            if item not in prefs[person] or prefs[person][item] == 0:\n",
        "                # 유사도 * 점수\n",
        "                totals.setdefault(item, 0)\n",
        "                totals[item] += prefs[other][item]*sim  # other가 평가한 영화의 점수 * person과 other의 상관계수\n",
        "\n",
        "                # 유사도 합계\n",
        "                simSums.setdefault(item, 0)\n",
        "                simSums[item] += sim\n",
        "\n",
        "    # 정규화된 목록 생성\n",
        "    rankings = [ (total/simSums[item], item) for item, total in totals.items() ]\n",
        "\n",
        "    # 정렬된 목록 리턴\n",
        "    rankings.sort()\n",
        "    rankings.reverse()\n",
        "    return rankings\n",
        "\n",
        "# 사람을 제품 기준으로 dict 변경\n",
        "def transform_prefs(prefs):\n",
        "    result = dict()\n",
        "\n",
        "    for person in prefs:\n",
        "        for item in prefs[person]:\n",
        "            result.setdefault(item, dict())\n",
        "\n",
        "            result[item][person] = prefs[person][item]\n",
        "\n",
        "    return result"
      ],
      "execution_count": 0,
      "outputs": []
    },
    {
      "metadata": {
        "id": "0wVaFn7I3HGW",
        "colab_type": "code",
        "colab": {}
      },
      "cell_type": "code",
      "source": [
        "# critics data 이용해 scatter plot 그리기\n",
        "def drawGraph(data, name1, name2):\n",
        "    plt.figure(figsize=(14,8)) # plot 크기설정\n",
        "    \n",
        "    # plot 좌표를 위한 list 선언\n",
        "    li = []\n",
        "    li2 = []\n",
        "    \n",
        "    for i in critics[name1]: # i = 키 값\n",
        "        if i in data[name2]: # 같은 영화를 평가했을때만\n",
        "            li.append(critics[name1][i]) # name1의 평점 li[]에 추가\n",
        "            li2.append(critics[name2][i]) # name2의 평점 li2[]에 추가\n",
        "            plt.text(critics[name1][i],critics[name2][i],i) # 영화 제목 text 찍기\n",
        "            \n",
        "    plt.plot(li,li2,'ro') #plot그리기\n",
        "    \n",
        "    #각 축의 크기 설정 (0에서 6까지)\n",
        "    plt.axis([0,6,0,6])\n",
        " \n",
        "    # x축과 y축 이름 설정\n",
        "    plt.xlabel(name1)\n",
        "    plt.ylabel(name2)\n",
        " \n",
        "    # 그리기\n",
        "    plt.show()"
      ],
      "execution_count": 0,
      "outputs": []
    },
    {
      "metadata": {
        "id": "oERUhoAF98vn",
        "colab_type": "code",
        "colab": {
          "base_uri": "https://localhost:8080/",
          "height": 501
        },
        "outputId": "e52b6a06-4c8e-4773-cc44-fe04cf225dfb"
      },
      "cell_type": "code",
      "source": [
        "drawGraph(critics,'Lisa Rose','Jack Mattheuws')"
      ],
      "execution_count": 22,
      "outputs": [
        {
          "output_type": "display_data",
          "data": {
            "image/png": "[encoded data removed]",
            "text/plain": [
              "<matplotlib.figure.Figure at 0x7fa220c7fe80>"
            ]
          },
          "metadata": {
            "tags": []
          }
        }
      ]
    },
    {
      "metadata": {
        "id": "suqqeLQr-KNn",
        "colab_type": "code",
        "colab": {}
      },
      "cell_type": "code",
      "source": [
        "from math import sqrt\n",
        "# 피어슨 상관계수 구하기\n",
        "def sim_pearson(data, name1, name2):\n",
        "    sumX=0 # X의 합\n",
        "    sumY=0 # Y의 합\n",
        "    sumPowX=0 # X 제곱의 합\n",
        "    sumPowY=0 # Y 제곱의 합\n",
        "    sumXY=0 # X*Y의 합\n",
        "    count=0 #영화 개수\n",
        "    \n",
        "    for i in data[name1]: # i = key\n",
        "        if i in data[name2]: # 같은 영화를 평가했을때만\n",
        "            sumX+=data[name1][i]\n",
        "            sumY+=data[name2][i]\n",
        "            sumPowX+=pow(data[name1][i],2)\n",
        "            sumPowY+=pow(data[name2][i],2)\n",
        "            sumXY+=data[name1][i]*data[name2][i]\n",
        "            count+=1\n",
        "    \n",
        "    return ( sumXY- ((sumX*sumY)/count) )/ sqrt( (sumPowX - (pow(sumX,2) / count)) * (sumPowY - (pow(sumY,2)/count)))"
      ],
      "execution_count": 0,
      "outputs": []
    },
    {
      "metadata": {
        "id": "quGTEF1J-VkR",
        "colab_type": "code",
        "colab": {
          "base_uri": "https://localhost:8080/",
          "height": 34
        },
        "outputId": "9316f9ff-87ca-4c33-c46b-59822311a85b"
      },
      "cell_type": "code",
      "source": [
        "sim_pearson(critics,'Lisa Rose','Jack Mattheuws')"
      ],
      "execution_count": 26,
      "outputs": [
        {
          "output_type": "execute_result",
          "data": {
            "text/plain": [
              "0.7470178808339965"
            ]
          },
          "metadata": {
            "tags": []
          },
          "execution_count": 26
        }
      ]
    },
    {
      "metadata": {
        "id": "htPLAaV8-Z-p",
        "colab_type": "code",
        "colab": {
          "base_uri": "https://localhost:8080/",
          "height": 34
        },
        "outputId": "86cc007c-82a3-45e7-bec2-b76aab202812"
      },
      "cell_type": "code",
      "source": [
        "sim_pearson(critics,'Lisa Rose','Michael Phillips')"
      ],
      "execution_count": 27,
      "outputs": [
        {
          "output_type": "execute_result",
          "data": {
            "text/plain": [
              "0.6225430174794672"
            ]
          },
          "metadata": {
            "tags": []
          },
          "execution_count": 27
        }
      ]
    },
    {
      "metadata": {
        "id": "W4MWztbU-v4V",
        "colab_type": "code",
        "colab": {}
      },
      "cell_type": "code",
      "source": [
        "# 딕셔너리 돌면서 상관계수순으로 정렬\n",
        "def top_match(data, name, index=3, sim_function=sim_pearson):\n",
        "    li=[]\n",
        "    for i in data: #딕셔너리를 돌고\n",
        "        if name!=i: #자기 자신이 아닐때만\n",
        "            li.append((sim_function(data,name,i),i)) #sim_function()을 통해 상관계수를 구하고 li[]에 추가\n",
        "    li.sort() #오름차순\n",
        "    li.reverse() #내림차순\n",
        "    return li[:index]"
      ],
      "execution_count": 0,
      "outputs": []
    },
    {
      "metadata": {
        "id": "AxpnmnyQ-0dJ",
        "colab_type": "code",
        "colab": {
          "base_uri": "https://localhost:8080/",
          "height": 119
        },
        "outputId": "bb7e1fa3-707e-4a98-c7ad-36642465d647"
      },
      "cell_type": "code",
      "source": [
        "top_match(critics, 'Lisa Rose',6)"
      ],
      "execution_count": 29,
      "outputs": [
        {
          "output_type": "execute_result",
          "data": {
            "text/plain": [
              "[(0.9912407071619299, 'Toby'),\n",
              " (0.7470178808339965, 'Jack Mattheuws'),\n",
              " (0.6225430174794672, 'Michael Phillips'),\n",
              " (0.5940885257860044, 'Mick LaSalle'),\n",
              " (0.5669467095138396, 'Claudia Puig'),\n",
              " (0.39605901719066977, 'Gene Seymour')]"
            ]
          },
          "metadata": {
            "tags": []
          },
          "execution_count": 29
        }
      ]
    },
    {
      "metadata": {
        "id": "-kJOxupW-37O",
        "colab_type": "code",
        "colab": {}
      },
      "cell_type": "code",
      "source": [
        "def getRecommendation (data,person,sim_function=sim_pearson):\n",
        "    result = top_match(critics, person ,len(data))\n",
        "    \n",
        "    simSum=0 # 유사도 합을 위한 변수\n",
        "    score=0 # 평점 합을 위한 변수\n",
        "    li=[] # 리턴을 위한 리스트\n",
        "    score_dic={} # 유사도 총합을 위한 dic\n",
        "    sim_dic={} # 평점 총합을 위한 dic\n",
        " \n",
        "    for sim,name in result: # 튜플이므로 한번에 \n",
        "        if sim<0 : continue #유사도가 양수인 사람만\n",
        "        for movie in data[name]: \n",
        "            if movie not in data[person]: #name이 평가를 내리지 않은 영화\n",
        "                score+=sim*data[name][movie] # 그사람의 영화평점 * 유사도\n",
        "                score_dic.setdefault(movie,0) # 기본값 설정\n",
        "                score_dic[movie]+=score # 합계 구함\n",
        " \n",
        "                # 조건에 맞는 사람의 유사도의 누적합을 구한다\n",
        "                sim_dic.setdefault(movie,0) \n",
        "                sim_dic[movie]+=sim\n",
        " \n",
        "            score=0  #영화가 바뀌었으니 초기화한다\n",
        "    \n",
        "    for key in score_dic: \n",
        "        score_dic[key]=score_dic[key]/sim_dic[key] # 평점 총합/ 유사도 총합\n",
        "        li.append((score_dic[key],key)) # list((tuple))의 리턴을 위해서.\n",
        "    li.sort() #오름차순\n",
        "    li.reverse() #내림차순\n",
        "    return li"
      ],
      "execution_count": 0,
      "outputs": []
    },
    {
      "metadata": {
        "id": "PmEES947-_2Y",
        "colab_type": "code",
        "colab": {
          "base_uri": "https://localhost:8080/",
          "height": 34
        },
        "outputId": "7f489c9e-70c7-40ae-94d2-96e0d3c1dcef"
      },
      "cell_type": "code",
      "source": [
        "getRecommendation(critics, 'Jack Mattheuws')"
      ],
      "execution_count": 37,
      "outputs": [
        {
          "output_type": "execute_result",
          "data": {
            "text/plain": [
              "[(2.1505590044630245, 'Just My Luck')]"
            ]
          },
          "metadata": {
            "tags": []
          },
          "execution_count": 37
        }
      ]
    },
    {
      "metadata": {
        "id": "xH27tein_Em-",
        "colab_type": "code",
        "colab": {}
      },
      "cell_type": "code",
      "source": [
        ""
      ],
      "execution_count": 0,
      "outputs": []
    }
  ]
}