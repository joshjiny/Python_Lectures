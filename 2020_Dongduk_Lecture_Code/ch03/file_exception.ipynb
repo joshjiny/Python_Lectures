{
 "cells": [
  {
   "cell_type": "markdown",
   "metadata": {},
   "source": [
    "### File I/O & Exception Handling"
   ]
  },
  {
   "cell_type": "code",
   "execution_count": 9,
   "metadata": {},
   "outputs": [
    {
     "name": "stdout",
     "output_type": "stream",
     "text": [
      "2\n",
      "0으로 나눌 수 없습니다.\n"
     ]
    }
   ],
   "source": [
    "### io_multi_exceptions.py\n",
    "try:\n",
    "    a = [1,2]\n",
    "    print((a[1]))\n",
    "    4/0\n",
    "except ZeroDivisionError:\n",
    "    print(\"0으로 나눌 수 없습니다.\")\n",
    "except IndexError:\n",
    "    print(\"인덱싱 할 수 없습니다.\")"
   ]
  },
  {
   "cell_type": "code",
   "execution_count": 6,
   "metadata": {},
   "outputs": [
    {
     "name": "stdout",
     "output_type": "stream",
     "text": [
      "허용되지 않은 계정명입니다.\n"
     ]
    }
   ],
   "source": [
    "### exception_NotAllowedUserName.py\n",
    "class NotAllowedUserName(Exception):\n",
    "    def __str__(self):\n",
    "        return \"허용되지 않은 계정명입니다.\"\n",
    "\n",
    "def register_nick(nick):\n",
    "    # 비속어 닉네임\n",
    "    if nick == '바보':\n",
    "        raise NotAllowedUserName()\n",
    "    # 불건전한 닉네임\n",
    "    elif nick == '19금':\n",
    "        raise NotAllowedUserName()\n",
    "    # 운영자 사칭\n",
    "    elif nick == '운영자':\n",
    "        raise NotAllowedUserName()\n",
    "    else:\n",
    "        print('계정이 생성되었습니다. 계정명은 {} 입니다.'.format(nick))\n",
    "try:\n",
    "    register_nick('바보')\n",
    "#    register_nick('새로운 유저')\n",
    "#    register_nick('19금')\n",
    "except NotAllowedUserName as e:\n",
    "    print(e)"
   ]
  },
  {
   "cell_type": "code",
   "execution_count": 11,
   "metadata": {},
   "outputs": [
    {
     "name": "stdout",
     "output_type": "stream",
     "text": [
      "Programming is fun\n",
      " Press ctrl+c now\n",
      "When the work is done\n",
      " Press ctrl+c now\n",
      "if you wanna make your work also fun:\n",
      " Press ctrl+c now\n",
      "    use Python!\n",
      " Press ctrl+c now\n",
      "(Cleaning up: Closed the file)\n"
     ]
    }
   ],
   "source": [
    "### exceptions_finally.py\n",
    "import sys\n",
    "import time\n",
    "\n",
    "f = None\n",
    "try:\n",
    "    f = open(\"poem.txt\")\n",
    "    # Our usual file-reading idiom\n",
    "    while True:\n",
    "        line = f.readline()\n",
    "        if len(line) == 0:\n",
    "            break\n",
    "        print(line, end=' ')\n",
    "        sys.stdout.flush()\n",
    "        print(\"Press ctrl+c now\")\n",
    "        # To make sure it runs for a while\n",
    "        time.sleep(2)\n",
    "except IOError:\n",
    "    print(\"Could not find file poem.txt\")\n",
    "except KeyboardInterrupt:\n",
    "    print(\"!! You cancelled the reading from the file.\")\n",
    "finally:\n",
    "    if f:\n",
    "        f.close()\n",
    "    print(\"(Cleaning up: Closed the file)\")"
   ]
  },
  {
   "cell_type": "code",
   "execution_count": 12,
   "metadata": {},
   "outputs": [
    {
     "name": "stdout",
     "output_type": "stream",
     "text": [
      "['apple', 'mango', 'carrot']\n"
     ]
    }
   ],
   "source": [
    "### io_pickle.py\n",
    "import pickle\n",
    "\n",
    "# The name of the file where we will store the object\n",
    "shoplistfile = 'shoplist.data'\n",
    "# The list of things to buy\n",
    "shoplist = ['apple', 'mango', 'carrot']\n",
    "\n",
    "# Write to the file\n",
    "f = open(shoplistfile, 'wb')\n",
    "# Dump the object to a file\n",
    "pickle.dump(shoplist, f)\n",
    "f.close()\n",
    "\n",
    "# Destroy the shoplist variable\n",
    "del shoplist\n",
    "\n",
    "# Read back from the storage\n",
    "f = open(shoplistfile, 'rb')\n",
    "# Load the object from the file\n",
    "storedlist = pickle.load(f)\n",
    "print(storedlist)"
   ]
  },
  {
   "cell_type": "code",
   "execution_count": 13,
   "metadata": {},
   "outputs": [
    {
     "name": "stdout",
     "output_type": "stream",
     "text": [
      "Programming is fun\n",
      " When the work is done\n",
      " if you wanna make your work also fun:\n",
      "     use Python!\n",
      " "
     ]
    }
   ],
   "source": [
    "### io_using_file.py\n",
    "poem = '''\\\n",
    "Programming is fun\n",
    "When the work is done\n",
    "if you wanna make your work also fun:\n",
    "    use Python!\n",
    "'''\n",
    "\n",
    "# Open for 'w'riting\n",
    "f = open('poem.txt', 'w')\n",
    "# Write text to file\n",
    "f.write(poem)\n",
    "# Close the file\n",
    "f.close()\n",
    "\n",
    "# If no mode is specified,\n",
    "# 'r'ead mode is assumed by default\n",
    "f = open('poem.txt')\n",
    "while True:\n",
    "    line = f.readline()\n",
    "    # Zero length indicates EOF\n",
    "    if len(line) == 0:\n",
    "        break\n",
    "    # The `line` already has a newline\n",
    "    # at the end of each line\n",
    "    # since it is reading from a file.\n",
    "    print(line, end=' ')\n",
    "# close the file\n",
    "f.close()"
   ]
  },
  {
   "cell_type": "code",
   "execution_count": 7,
   "metadata": {},
   "outputs": [
    {
     "data": {
      "text/html": [
       "<div>\n",
       "<style scoped>\n",
       "    .dataframe tbody tr th:only-of-type {\n",
       "        vertical-align: middle;\n",
       "    }\n",
       "\n",
       "    .dataframe tbody tr th {\n",
       "        vertical-align: top;\n",
       "    }\n",
       "\n",
       "    .dataframe thead th {\n",
       "        text-align: right;\n",
       "    }\n",
       "</style>\n",
       "<table border=\"1\" class=\"dataframe\">\n",
       "  <thead>\n",
       "    <tr style=\"text-align: right;\">\n",
       "      <th></th>\n",
       "      <th>이름</th>\n",
       "      <th>주민등록번호</th>\n",
       "    </tr>\n",
       "  </thead>\n",
       "  <tbody>\n",
       "    <tr>\n",
       "      <th>0</th>\n",
       "      <td>홍길동</td>\n",
       "      <td>901123-1234567</td>\n",
       "    </tr>\n",
       "    <tr>\n",
       "      <th>1</th>\n",
       "      <td>김영희</td>\n",
       "      <td>920312-2003923</td>\n",
       "    </tr>\n",
       "    <tr>\n",
       "      <th>2</th>\n",
       "      <td>보노보노</td>\n",
       "      <td>000130-7239921</td>\n",
       "    </tr>\n",
       "    <tr>\n",
       "      <th>3</th>\n",
       "      <td>포로리</td>\n",
       "      <td>001130-8220391</td>\n",
       "    </tr>\n",
       "  </tbody>\n",
       "</table>\n",
       "</div>"
      ],
      "text/plain": [
       "     이름          주민등록번호\n",
       "0   홍길동  901123-1234567\n",
       "1   김영희  920312-2003923\n",
       "2  보노보노  000130-7239921\n",
       "3   포로리  001130-8220391"
      ]
     },
     "execution_count": 7,
     "metadata": {},
     "output_type": "execute_result"
    }
   ],
   "source": [
    "### io_csv.py\n",
    "\n",
    "import pandas as pd\n",
    "file_name = \"file.csv\"\n",
    "df = pd.read_csv(file_name, encoding='euc-kr')\n",
    "df.head()"
   ]
  },
  {
   "cell_type": "code",
   "execution_count": null,
   "metadata": {},
   "outputs": [],
   "source": [
    "# ‘이름’을 key로 가지는 dictionary를 활용하여 \n",
    "# 3개 이상의 필드값을 조회할 수 있는 전화번호부를 만드시오.\n",
    "# 힌트: 딕셔러니 안에 다른 자료구조를 추가해봅니다. "
   ]
  },
  {
   "cell_type": "code",
   "execution_count": 22,
   "metadata": {},
   "outputs": [
    {
     "name": "stdout",
     "output_type": "stream",
     "text": [
      "Programming is fun\n",
      " When the work is done\n",
      " if you wanna make your work also fun:\n",
      "     use Python!\n",
      " "
     ]
    }
   ],
   "source": [
    "### exceptions_using_with.py\n",
    "with open(\"poem.txt\") as f:\n",
    "    for line in f:\n",
    "        print(line, end=' ')"
   ]
  },
  {
   "cell_type": "code",
   "execution_count": null,
   "metadata": {},
   "outputs": [],
   "source": []
  }
 ],
 "metadata": {
  "kernelspec": {
   "display_name": "Python 3",
   "language": "python",
   "name": "python3"
  },
  "language_info": {
   "codemirror_mode": {
    "name": "ipython",
    "version": 3
   },
   "file_extension": ".py",
   "mimetype": "text/x-python",
   "name": "python",
   "nbconvert_exporter": "python",
   "pygments_lexer": "ipython3",
   "version": "3.7.7"
  }
 },
 "nbformat": 4,
 "nbformat_minor": 4
}
