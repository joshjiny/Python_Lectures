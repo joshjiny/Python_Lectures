{
 "cells": [
  {
   "cell_type": "markdown",
   "metadata": {},
   "source": [
    "### Debuging & Data Structure"
   ]
  },
  {
   "cell_type": "code",
   "execution_count": 1,
   "metadata": {},
   "outputs": [
    {
     "name": "stdout",
     "output_type": "stream",
     "text": [
      "Enter an integer : 34\n",
      "Congratulations, you guessed it.\n",
      "The while loop is over.\n",
      "Done\n"
     ]
    }
   ],
   "source": [
    "### pylint\n",
    "\"\"\" This is number game.\"\"\"\n",
    "ANSWER_NUMBER = 34\n",
    "RUNNING_STATUS = True\n",
    "\n",
    "while RUNNING_STATUS:\n",
    "    guess = int(input('Enter an integer : '))\n",
    "\n",
    "    if guess == ANSWER_NUMBER:\n",
    "        print('Congratulations, you guessed it.')\n",
    "        # this causes the while loop to stop\n",
    "        RUNNING_STATUS = False\n",
    "    elif guess < ANSWER_NUMBER:\n",
    "        print('No, it is a little higher than that.')\n",
    "    else:\n",
    "        print('No, it is a little lower than that.')\n",
    "\n",
    "print('The while loop is over.')\n",
    "    # Do anything else you want to do here\n",
    "\n",
    "print('Done')"
   ]
  },
  {
   "cell_type": "code",
   "execution_count": 2,
   "metadata": {},
   "outputs": [
    {
     "name": "stdout",
     "output_type": "stream",
     "text": [
      "I have 4 items to purchase.\n",
      "These items are: apple mango carrot banana \n",
      "I also have to buy rice.\n",
      "My shopping list is now ['apple', 'mango', 'carrot', 'banana', 'rice']\n",
      "I will sort my list now\n",
      "Sorted shopping list is ['apple', 'banana', 'carrot', 'mango', 'rice']\n",
      "The first item I will buy is apple\n",
      "I bought the apple\n",
      "My shopping list is now ['banana', 'carrot', 'mango', 'rice']\n"
     ]
    }
   ],
   "source": [
    "### ds_using_list.py\n",
    "# This is my shopping list\n",
    "shoplist = ['apple', 'mango', 'carrot', 'banana']\n",
    "\n",
    "print('I have', len(shoplist), 'items to purchase.')\n",
    "\n",
    "print('These items are:', end=' ')\n",
    "for item in shoplist:\n",
    "    print(item, end=' ')\n",
    "\n",
    "print('\\nI also have to buy rice.')\n",
    "shoplist.append('rice')\n",
    "print('My shopping list is now', shoplist)\n",
    "\n",
    "print('I will sort my list now')\n",
    "shoplist.sort()\n",
    "print('Sorted shopping list is', shoplist)\n",
    "\n",
    "print('The first item I will buy is', shoplist[0])\n",
    "olditem = shoplist[0]\n",
    "del shoplist[0]\n",
    "print('I bought the', olditem)\n",
    "print('My shopping list is now', shoplist)"
   ]
  },
  {
   "cell_type": "code",
   "execution_count": 3,
   "metadata": {},
   "outputs": [
    {
     "name": "stdout",
     "output_type": "stream",
     "text": [
      "Number of animals in the zoo is 3\n",
      "Number of cages in the new zoo is 3\n",
      "All animals in new zoo are ('monkey', 'camel', ('python', 'elephant', 'penguin'))\n",
      "Animals brought from old zoo are ('python', 'elephant', 'penguin')\n",
      "Last animal brought from old zoo is penguin\n",
      "Number of animals in the new zoo is 5\n"
     ]
    }
   ],
   "source": [
    "### ds_using_tuple.py\n",
    "\n",
    "# I would recommend always using parentheses\n",
    "# to indicate start and end of tuple\n",
    "# even though parentheses are optional.\n",
    "# Explicit is better than implicit.\n",
    "zoo = ('python', 'elephant', 'penguin')\n",
    "print('Number of animals in the zoo is', len(zoo))\n",
    "\n",
    "new_zoo = 'monkey', 'camel', zoo\n",
    "print('Number of cages in the new zoo is', len(new_zoo))\n",
    "print('All animals in new zoo are', new_zoo)\n",
    "print('Animals brought from old zoo are', new_zoo[2])\n",
    "print('Last animal brought from old zoo is', new_zoo[2][2])\n",
    "# 라인이 길어지는 걸 방지하기 위함 /\n",
    "# 내부 튜플 자체가 len 함수에 포함되었기에 -1\n",
    "print('Number of animals in the new zoo is', \\\n",
    "    len(new_zoo)-1+len(new_zoo[2])) "
   ]
  },
  {
   "cell_type": "code",
   "execution_count": 4,
   "metadata": {},
   "outputs": [
    {
     "name": "stdout",
     "output_type": "stream",
     "text": [
      "Swaroop's address is swaroop@swaroopch.com\n",
      "\n",
      "There are 3 contacts in the address-book\n",
      "\n",
      "Contact Swaroop at swaroop@swaroopch.com\n",
      "Contact Larry at larry@wall.org\n",
      "Contact Matsumoto at matz@ruby-lang.org\n",
      "\n",
      "Guido's address is guido@python.org\n",
      "{'Swaroop': 'swaroop@swaroopch.com', 'Larry': 'larry@wall.org', 'Matsumoto': 'matz@ruby-lang.org', 'Guido': 'guido@python.org', '맹윤호': 'yunho0130@gmail.com'}\n",
      "Swaroop : swaroop@swaroopch.com\n",
      "Larry : larry@wall.org\n",
      "Matsumoto : matz@ruby-lang.org\n",
      "Guido : guido@python.org\n",
      "맹윤호 : yunho0130@gmail.com\n"
     ]
    }
   ],
   "source": [
    "### ds_using_dict.py\n",
    "# 'ab' is short for 'a'ddress'b'ook\n",
    "\n",
    "ab = {  'Swaroop'   : 'swaroop@swaroopch.com',\n",
    "        'Larry'     : 'larry@wall.org',\n",
    "        'Matsumoto' : 'matz@ruby-lang.org',\n",
    "        'Spammer'   : 'spammer@hotmail.com',\n",
    "     }\n",
    "\n",
    "print(\"Swaroop's address is\", ab['Swaroop'])\n",
    "\n",
    "# Deleting a key-value pair\n",
    "del ab['Spammer']\n",
    "\n",
    "print('\\nThere are {} contacts in the address-book\\n'.format(len(ab)))\n",
    "\n",
    "for name, address in list(ab.items()):\n",
    "    print('Contact {} at {}'.format(name, address))\n",
    "\n",
    "# Adding a key-value pair\n",
    "ab['Guido'] = 'guido@python.org'\n",
    "\n",
    "if 'Guido' in ab:\n",
    "    print(\"\\nGuido's address is\", ab['Guido'])\n",
    "\n",
    "ab['맹윤호'] = 'yunho0130@gmail.com'\n",
    "\n",
    "print(ab)\n",
    "\n",
    "for i,j in list(ab.items()):\n",
    "    print(i,':', j)"
   ]
  },
  {
   "cell_type": "code",
   "execution_count": 5,
   "metadata": {},
   "outputs": [
    {
     "name": "stdout",
     "output_type": "stream",
     "text": [
      "{'india', 'brazil', 'russia'}\n",
      "<class 'set'>\n",
      "True\n",
      "False\n",
      "True\n",
      "{'india', 'brazil'}\n",
      "{'china', 'india', 'brazil', 'russia'}\n",
      "{'india', 'brazil'}\n"
     ]
    }
   ],
   "source": [
    "### ds_using_set.py\n",
    "bri = set(['brazil', 'russia', 'india'])\n",
    "\n",
    "print(bri)\n",
    "print(type(bri))\n",
    "\n",
    "print('india' in bri)\n",
    "print('usa' in bri)\n",
    "\n",
    "# frozen set이 아니기 때문에 mutable로 처리되어 deep copy 필요 \n",
    "bric = bri.copy() \n",
    "#bric = bri\n",
    "bric.add('china')\n",
    "bric.add('china') # 중복되는 값은 추가되지 않음\n",
    "print(bric.issuperset(bri))\n",
    "\n",
    "bri.remove('russia')\n",
    "print(bri)\n",
    "print(bric)\n",
    "\n",
    "print(bri & bric)"
   ]
  },
  {
   "cell_type": "code",
   "execution_count": 6,
   "metadata": {},
   "outputs": [
    {
     "name": "stdout",
     "output_type": "stream",
     "text": [
      "[1, 2, 3, 4]\n",
      "POP > 4\n",
      "POP > 3\n",
      "POP > 2\n",
      "POP > 1\n"
     ]
    }
   ],
   "source": [
    "### ds_making_stack.py\n",
    "def main():\n",
    "    stack = []      # stack create\n",
    "    stack.append(1)  # same PUSH\n",
    "    stack.append(2)\n",
    "    stack.append(3)\n",
    "    stack.append(4)\n",
    "    print(stack)\n",
    "\n",
    "    while stack:\n",
    "       print(\"POP >\", stack.pop())\n",
    "\n",
    "if __name__ == '__main__':\n",
    "    main()"
   ]
  },
  {
   "cell_type": "code",
   "execution_count": 7,
   "metadata": {},
   "outputs": [
    {
     "name": "stdout",
     "output_type": "stream",
     "text": [
      "[1, 2, 3, 4]\n",
      "POP > 4\n",
      "POP > 3\n",
      "POP > 2\n",
      "POP > 1\n"
     ]
    }
   ],
   "source": [
    "### ds_making_queue.py\n",
    "def Main():\n",
    "    queue = []      # queue create\n",
    "    queue.append(1) # same PUT\n",
    "    queue.append(2)\n",
    "    queue.append(3)\n",
    "    queue.append(4)\n",
    "    print(queue)\n",
    "\n",
    "    while queue:\n",
    "        # same GET\n",
    "        print(\"GET > \",queue.pop(0)) \n",
    "\n",
    "if __name__ == '__main__':\n",
    "    main()"
   ]
  },
  {
   "cell_type": "code",
   "execution_count": 8,
   "metadata": {},
   "outputs": [
    {
     "name": "stdout",
     "output_type": "stream",
     "text": [
      "0.09731313846168066\n",
      "5\n",
      "['a', 'b', 'c', 'd', 'e']\n",
      "['b', 'c', 'e', 'a', 'd']\n",
      "['a', 'b', 'c', 'd', 'e']\n"
     ]
    }
   ],
   "source": [
    "### random.py\n",
    "# -*- coding: utf-8 -*-\n",
    "import random\n",
    "print(random.random())\n",
    "\n",
    "print(random.randrange(1,7))\n",
    "\n",
    "# 순서형자료를 섞는 역할\n",
    "abc = ['a', 'b', 'c', 'd', 'e']\n",
    "print(abc)\n",
    "random.shuffle(abc)\n",
    "print(abc)\n",
    "\n",
    "# 재정렬 \n",
    "abc.sort()\n",
    "print(abc)"
   ]
  },
  {
   "cell_type": "code",
   "execution_count": null,
   "metadata": {},
   "outputs": [],
   "source": []
  }
 ],
 "metadata": {
  "kernelspec": {
   "display_name": "Python 3",
   "language": "python",
   "name": "python3"
  },
  "language_info": {
   "codemirror_mode": {
    "name": "ipython",
    "version": 3
   },
   "file_extension": ".py",
   "mimetype": "text/x-python",
   "name": "python",
   "nbconvert_exporter": "python",
   "pygments_lexer": "ipython3",
   "version": "3.7.7"
  }
 },
 "nbformat": 4,
 "nbformat_minor": 4
}
