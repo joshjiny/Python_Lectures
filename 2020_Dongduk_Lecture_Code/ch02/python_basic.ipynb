{
  "nbformat": 4,
  "nbformat_minor": 0,
  "metadata": {
    "kernelspec": {
      "display_name": "Python 3",
      "language": "python",
      "name": "python3"
    },
    "language_info": {
      "codemirror_mode": {
        "name": "ipython",
        "version": 3
      },
      "file_extension": ".py",
      "mimetype": "text/x-python",
      "name": "python",
      "nbconvert_exporter": "python",
      "pygments_lexer": "ipython3",
      "version": "3.7.7"
    },
    "colab": {
      "name": "python_basic.ipynb",
      "provenance": []
    }
  },
  "cells": [
    {
      "cell_type": "markdown",
      "metadata": {
        "id": "Gpypc4Qx65aH"
      },
      "source": [
        "### Hello World"
      ]
    },
    {
      "cell_type": "code",
      "metadata": {
        "id": "v_gOR7Jo65aH",
        "outputId": "bf6816c7-635b-4d9d-d21b-2e8be0ce7e84"
      },
      "source": [
        "# -*- coding: utf-8 -*-\n",
        "\n",
        "print (\"hello world\")\n",
        "print (\"hello world \"*2)\n",
        "print (\"hello\" + \" World\")\n",
        "print (\"hello\", \"World\")\n",
        "print (\"헬로 월드\")\n",
        "print (\"2\"*4)"
      ],
      "execution_count": null,
      "outputs": [
        {
          "output_type": "stream",
          "text": [
            "hello world\n",
            "hello world hello world \n",
            "hello World\n",
            "hello World\n",
            "헬로 월드\n",
            "2222\n"
          ],
          "name": "stdout"
        }
      ]
    },
    {
      "cell_type": "markdown",
      "metadata": {
        "id": "iOMxkct89lvA"
      },
      "source": [
        "### 계산기 실습"
      ]
    },
    {
      "cell_type": "code",
      "metadata": {
        "colab": {
          "base_uri": "https://localhost:8080/"
        },
        "id": "zWEv9PGf9pg9",
        "outputId": "ba44c634-8f6a-4ad5-82e8-29b5fb675fe5"
      },
      "source": [
        "def function_test(num, val1, val2):\n",
        "    def minus():\n",
        "        print(val1 - val2)\n",
        "    def plus():\n",
        "        print(val1 + val2)\n",
        "    def muplti():\n",
        "        print(val1 * val2)\n",
        "    def division():\n",
        "        print(val1 / val2)\n",
        "    if num == 1:\n",
        "        return plus()\n",
        "    elif num == 2:\n",
        "        return minus()\n",
        "    elif num == 3:\n",
        "        return muplti()\n",
        "    elif num == 4:\n",
        "        return division()\n",
        "\n",
        "def customzied_bitshift():\n",
        "    print(\"비트 쉬프트 연산을 합니다.\")\n",
        "\n",
        "\n",
        "val1 = int(input(\"첫번째 수: \"))\n",
        "val2 = int(input(\"두번째 수: \"))\n",
        "print(\"[1.덧셈 2. 뺄셈 3. 곱셈 4. 나눗셈]\")\n",
        "opt = input(\"원하시는 연산을 입력하세요: \")\n",
        "\n",
        "function_test(int(opt), val1, val2)"
      ],
      "execution_count": 1,
      "outputs": [
        {
          "output_type": "stream",
          "text": [
            "첫번째 수: 12\n",
            "두번째 수: 23\n",
            "[1.덧셈 2. 뺄셈 3. 곱셈 4. 나눗셈]\n",
            "원하시는 연산을 입력하세요: 2\n",
            "-11\n"
          ],
          "name": "stdout"
        }
      ]
    },
    {
      "cell_type": "markdown",
      "metadata": {
        "id": "ZLLbBux0-y6a"
      },
      "source": [
        "### PPAP"
      ]
    },
    {
      "cell_type": "code",
      "metadata": {
        "id": "ABk9JGUA-1OM",
        "outputId": "13d7dcd6-f274-4e36-cd8a-39f4abe56fe9",
        "colab": {
          "base_uri": "https://localhost:8080/"
        }
      },
      "source": [
        "def ppap(item1='pen',item2='apple',item3='pineapple'):\n",
        "\n",
        "    def song(item1):\n",
        "        print('I hava a {}'.format(item1))\n",
        "    def ah(item1, item2):\n",
        "        print('Ah~ {0} {1}'.format(item2,item1))\n",
        "    def combine(item1, item2, item3):\n",
        "        print('{0}~ {1}~ {2}~'.format(item2+' '+item1, item3+' '+item1, item1+' '+item3+' '+item2+' '+item1))\n",
        "\n",
        "    song(item1) # I have a pen\n",
        "    song(item2) # I hava an apple\n",
        "    ah(item1,item2) # Ah~ apple pen\n",
        "    song(item1) # I have a pen\n",
        "    song(item3) # I hava a pineapple\n",
        "    ah(item1,item3) # Ah~ pineapple pen\n",
        "    combine(item1, item2, item3) # apple pen~ pineapple pen~ pen pineapple apple pen\n",
        "\n",
        "input_val_1 = input(\"원하는 과일을 입력해 주세요(영문): \")\n",
        "input_val_2 = input(\"원하는 두 번째 과일을 입력해주세요(영문): \")\n",
        "\n",
        "ppap(item2=input_val_1, item3=input_val_2)"
      ],
      "execution_count": 3,
      "outputs": [
        {
          "output_type": "stream",
          "text": [
            "원하는 과일을 입력해 주세요(영문): apple\n",
            "원하는 두 번째 과일을 입력해주세요(영문): pineapple\n",
            "I hava a pen\n",
            "I hava a apple\n",
            "Ah~ apple pen\n",
            "I hava a pen\n",
            "I hava a pineapple\n",
            "Ah~ pineapple pen\n",
            "apple pen~ pineapple pen~ pen pineapple apple pen~\n"
          ],
          "name": "stdout"
        }
      ]
    },
    {
      "cell_type": "code",
      "metadata": {
        "id": "50E3wCt3-2hh"
      },
      "source": [
        ""
      ],
      "execution_count": null,
      "outputs": []
    },
    {
      "cell_type": "markdown",
      "metadata": {
        "id": "tZqFk5LQ65aI"
      },
      "source": [
        "### 정규표현식 실습"
      ]
    },
    {
      "cell_type": "code",
      "metadata": {
        "id": "F7Z9xSJG65aI",
        "outputId": "b1c5d1a2-149d-4a90-bea8-3dd16026687a"
      },
      "source": [
        "# Ref: 정규표현식 https://goo.gl/r4xz6m\n",
        "\n",
        "# 따옴표(')로 둘러쌓인 부분에 원하는 정규표현식을 적습니다.\n",
        "regex = r'[가-힣]+'\n",
        "\n",
        "# 전화번호 0\\d{1,2}[ -]?\\d{3,4}[ -]?\\d{3,4}\n",
        "# 숫자 \\d\n",
        "# 특수문자 제외한 문자 \\w   (언더바는 포함)\n",
        "#  \\d+라고 쓰면 \"하나 혹은 그 이상 연결된 숫자\"\n",
        "# 자연수 [1-9]\\d*\n",
        "# 전화번호에 - 여부와 상관없이 유효성 체크 \\d+-?\\d+-?\\d+\n",
        "# 전화번호 길이까지 지정해주는 정규식 \\d{2,3}[- ]?\\d{3,4}[- ]?\\d{4}\n",
        "# 영어 알파벳중에 소문자 모음(a,e,i,o,u)만 골라서 보고 싶을때 [aeiou]\n",
        "# 영어 알파벳 소문자 전부 [a-z]\n",
        "# 모든 한글 [가-힣]+\n",
        "# \\s 공백문자(스페이스, 탭, 뉴라인)\n",
        "# \\S 공백문자를 제외한 문자\n",
        "# \\D 숫자를 제외한 문자\n",
        "# \\W 글자 대표문자를 제외한 글자들(특수문자, 공백 등)\n",
        "\n",
        "\n",
        "search_target = '''Luke Skywarker 02-123-4567 luke@daum.net\n",
        "다스베이더 070-9999-9999 darth_vader@gmail.com\n",
        "princess leia 010 2454 3457 leia@gmail.com ㅏㅇㄱㄱㅎ'''\n",
        "\n",
        "# 정규표현식과 일치하는 부분을 모두 찾아주는 파이썬 코드입니다.\n",
        "import re\n",
        "result = re.findall(regex, search_target)\n",
        "print(\"\\n\".join(result))"
      ],
      "execution_count": null,
      "outputs": [
        {
          "output_type": "stream",
          "text": [
            "다스베이더\n"
          ],
          "name": "stdout"
        }
      ]
    },
    {
      "cell_type": "code",
      "metadata": {
        "id": "Z8-VhWrH65aI"
      },
      "source": [
        ""
      ],
      "execution_count": null,
      "outputs": []
    }
  ]
}