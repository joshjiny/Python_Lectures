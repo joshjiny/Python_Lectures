{
 "cells": [
  {
   "cell_type": "markdown",
   "metadata": {},
   "source": [
    "# Do it 강화학습 "
   ]
  },
  {
   "cell_type": "markdown",
   "metadata": {},
   "source": [
    "### GPT-2 Kor 환경설정 (터미널에서 실행)"
   ]
  },
  {
   "cell_type": "code",
   "execution_count": null,
   "metadata": {},
   "outputs": [],
   "source": [
    "# KoGPT2 실습\n",
    "# Github에서 소스코드를 내 컴퓨터로 클론해옵니다. \n",
    "$ git clone https://github.com/yunho0130/Python_Lectures\n",
    "# KoGPT-2 환경설정 파일이 있는 경로로 이동합니다. \n",
    "$ cd 2020_EWHA_Lecture_Slide/KoGPT2 \n",
    "# 해당 경로에서 파이썬 개발 환경 설정 정보가 들어있는 environment.yml 파일을 참조하여 새로운 콘다 환경을 생성합니다. \n",
    "$ conda env create -f environment.yml\n",
    "# 생성한 콘다 환경을 활성화 합니다.\n",
    "$ conda activate rl-nlp-gpt2\n",
    "# 주피터 노트북(Jupyter Notebook)을 실행합니다. \n",
    "$ jupyter notebook"
   ]
  },
  {
   "cell_type": "markdown",
   "metadata": {},
   "source": [
    "### PyTorch"
   ]
  },
  {
   "cell_type": "code",
   "execution_count": null,
   "metadata": {},
   "outputs": [
    {
     "name": "stdout",
     "output_type": "stream",
     "text": [
      "using cached model\n",
      "using cached model\n",
      "using cached model\n"
     ]
    }
   ],
   "source": [
    "# 필요한 종속성 모듈들을 로드합니다. \n",
    "import torch\n",
    "from kogpt2.pytorch_kogpt2 import get_pytorch_kogpt2_model\n",
    "from gluonnlp.data import SentencepieceTokenizer\n",
    "from kogpt2.utils import get_tokenizer\n",
    "\n",
    "# Pre-trained된 모델에서 tokenizer를 로드합니다. \n",
    "tok_path = get_tokenizer()\n",
    "model, vocab = get_pytorch_kogpt2_model()\n",
    "tok = SentencepieceTokenizer(tok_path)\n",
    "\n",
    "# 입력 값으로 넣어줄 문장을 지정합니다. 이후의 문장을 추론합니다. \n",
    "sent = '강화학습을 공부하는 것은'\n",
    "\n",
    "# 문장을 토큰화 합니다. \n",
    "toked = tok(sent)\n",
    "# 입력된 문장 다음 값을 예측하는 것을 반복합니다. \n",
    "# 예측된 다음 값을 기존 문장에 합치고 다음 값 예측을 진행합니다. \n",
    "# 문장의 끝이 나오면 반복을 중지하고 최종 문장을 확인합니다. \n",
    "while 1:\n",
    "  input_ids = torch.tensor([vocab[vocab.bos_token],]  + vocab[toked]).unsqueeze(0)\n",
    "  pred = model(input_ids)[0]\n",
    "  gen = vocab.to_tokens(torch.argmax(pred, axis=-1).squeeze().tolist())[-1]\n",
    "  if gen == '</s>':\n",
    "      break\n",
    "  sent += gen.replace('▁', ' ')\n",
    "  toked = tok(sent)\n",
    "sent"
   ]
  },
  {
   "cell_type": "markdown",
   "metadata": {},
   "source": [
    "### MXNet-Gluon"
   ]
  },
  {
   "cell_type": "code",
   "execution_count": 4,
   "metadata": {},
   "outputs": [
    {
     "name": "stdout",
     "output_type": "stream",
     "text": [
      "using cached model\n",
      "using cached model\n",
      "using cached model\n"
     ]
    },
    {
     "data": {
      "text/plain": [
       "'강화학습을 공부하는 것은 물론, 학습의욕을 고취시켜 자기주도학습을 할 수 있도록 돕는 것이 목적이다.'"
      ]
     },
     "execution_count": 4,
     "metadata": {},
     "output_type": "execute_result"
    }
   ],
   "source": [
    "import mxnet as mx\n",
    "from kogpt2.mxnet_kogpt2 import get_mxnet_kogpt2_model\n",
    "from gluonnlp.data import SentencepieceTokenizer\n",
    "from kogpt2.utils import get_tokenizer\n",
    "\n",
    "if mx.context.num_gpus() > 0:\n",
    "  ctx = mx.gpu()\n",
    "else:\n",
    "  ctx = mx.cpu()\n",
    "  \n",
    "tok_path = get_tokenizer()\n",
    "model, vocab = get_mxnet_kogpt2_model(ctx=ctx)\n",
    "tok = SentencepieceTokenizer(tok_path)\n",
    "sent = '강화학습을 공부하는 것은'\n",
    "toked = tok(sent)\n",
    "while 1:\n",
    "  input_ids = mx.nd.array([vocab[vocab.bos_token]]  + vocab[toked]).expand_dims(axis=0)\n",
    "  pred = model(input_ids.as_in_context(ctx))[0]\n",
    "  gen = vocab.to_tokens(mx.nd.argmax(pred, axis=-1).squeeze().astype('int').asnumpy().tolist())[-1]\n",
    "  if gen == '</s>':\n",
    "    break\n",
    "  sent += gen.replace('▁', ' ')\n",
    "  toked = tok(sent)\n",
    "sent"
   ]
  },
  {
   "cell_type": "code",
   "execution_count": null,
   "metadata": {},
   "outputs": [],
   "source": []
  }
 ],
 "metadata": {
  "kernelspec": {
   "display_name": "Python 3",
   "language": "python",
   "name": "python3"
  },
  "language_info": {
   "codemirror_mode": {
    "name": "ipython",
    "version": 3
   },
   "file_extension": ".py",
   "mimetype": "text/x-python",
   "name": "python",
   "nbconvert_exporter": "python",
   "pygments_lexer": "ipython3",
   "version": "3.7.7"
  }
 },
 "nbformat": 4,
 "nbformat_minor": 4
}
