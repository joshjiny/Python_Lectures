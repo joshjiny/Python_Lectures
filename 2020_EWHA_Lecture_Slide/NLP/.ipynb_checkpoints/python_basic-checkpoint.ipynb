{
 "cells": [
  {
   "cell_type": "code",
   "execution_count": 2,
   "metadata": {},
   "outputs": [
    {
     "name": "stdout",
     "output_type": "stream",
     "text": [
      "hello world\n",
      "hello world hello world \n",
      "hello World\n",
      "hello World\n",
      "헬로 월드\n",
      "2222\n"
     ]
    }
   ],
   "source": [
    "# -*- coding: utf-8 -*-\n",
    "\n",
    "print (\"hello world\")\n",
    "print (\"hello world \"*2)\n",
    "print (\"hello\" + \" World\")\n",
    "print (\"hello\", \"World\")\n",
    "print (\"헬로 월드\")\n",
    "print (\"2\"*4)"
   ]
  },
  {
   "cell_type": "code",
   "execution_count": null,
   "metadata": {},
   "outputs": [],
   "source": []
  }
 ],
 "metadata": {
  "kernelspec": {
   "display_name": "Python 3",
   "language": "python",
   "name": "python3"
  },
  "language_info": {
   "codemirror_mode": {
    "name": "ipython",
    "version": 3
   },
   "file_extension": ".py",
   "mimetype": "text/x-python",
   "name": "python",
   "nbconvert_exporter": "python",
   "pygments_lexer": "ipython3",
   "version": "3.7.7"
  }
 },
 "nbformat": 4,
 "nbformat_minor": 4
}
