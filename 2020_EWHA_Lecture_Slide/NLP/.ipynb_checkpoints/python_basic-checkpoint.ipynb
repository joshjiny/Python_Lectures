{
 "cells": [
  {
   "cell_type": "markdown",
   "metadata": {},
   "source": [
    "### Hello World"
   ]
  },
  {
   "cell_type": "code",
   "execution_count": 2,
   "metadata": {},
   "outputs": [
    {
     "name": "stdout",
     "output_type": "stream",
     "text": [
      "hello world\n",
      "hello world hello world \n",
      "hello World\n",
      "hello World\n",
      "헬로 월드\n",
      "2222\n"
     ]
    }
   ],
   "source": [
    "# -*- coding: utf-8 -*-\n",
    "\n",
    "print (\"hello world\")\n",
    "print (\"hello world \"*2)\n",
    "print (\"hello\" + \" World\")\n",
    "print (\"hello\", \"World\")\n",
    "print (\"헬로 월드\")\n",
    "print (\"2\"*4)"
   ]
  },
  {
   "cell_type": "markdown",
   "metadata": {},
   "source": [
    "### 정규표현식 실습"
   ]
  },
  {
   "cell_type": "code",
   "execution_count": 1,
   "metadata": {},
   "outputs": [
    {
     "name": "stdout",
     "output_type": "stream",
     "text": [
      "다스베이더\n"
     ]
    }
   ],
   "source": [
    "# Ref: 정규표현식 https://goo.gl/r4xz6m\n",
    "\n",
    "# 따옴표(')로 둘러쌓인 부분에 원하는 정규표현식을 적습니다.\n",
    "regex = r'[가-힣]+'\n",
    "\n",
    "# 전화번호 0\\d{1,2}[ -]?\\d{3,4}[ -]?\\d{3,4}\n",
    "# 숫자 \\d\n",
    "# 특수문자 제외한 문자 \\w   (언더바는 포함)\n",
    "#  \\d+라고 쓰면 \"하나 혹은 그 이상 연결된 숫자\"\n",
    "# 자연수 [1-9]\\d*\n",
    "# 전화번호에 - 여부와 상관없이 유효성 체크 \\d+-?\\d+-?\\d+\n",
    "# 전화번호 길이까지 지정해주는 정규식 \\d{2,3}[- ]?\\d{3,4}[- ]?\\d{4}\n",
    "# 영어 알파벳중에 소문자 모음(a,e,i,o,u)만 골라서 보고 싶을때 [aeiou]\n",
    "# 영어 알파벳 소문자 전부 [a-z]\n",
    "# 모든 한글 [가-힣]+\n",
    "# \\s 공백문자(스페이스, 탭, 뉴라인)\n",
    "# \\S 공백문자를 제외한 문자\n",
    "# \\D 숫자를 제외한 문자\n",
    "# \\W 글자 대표문자를 제외한 글자들(특수문자, 공백 등)\n",
    "\n",
    "\n",
    "search_target = '''Luke Skywarker 02-123-4567 luke@daum.net\n",
    "다스베이더 070-9999-9999 darth_vader@gmail.com\n",
    "princess leia 010 2454 3457 leia@gmail.com ㅏㅇㄱㄱㅎ'''\n",
    "\n",
    "# 정규표현식과 일치하는 부분을 모두 찾아주는 파이썬 코드입니다.\n",
    "import re\n",
    "result = re.findall(regex, search_target)\n",
    "print(\"\\n\".join(result))"
   ]
  },
  {
   "cell_type": "code",
   "execution_count": null,
   "metadata": {},
   "outputs": [],
   "source": []
  }
 ],
 "metadata": {
  "kernelspec": {
   "display_name": "Python 3",
   "language": "python",
   "name": "python3"
  },
  "language_info": {
   "codemirror_mode": {
    "name": "ipython",
    "version": 3
   },
   "file_extension": ".py",
   "mimetype": "text/x-python",
   "name": "python",
   "nbconvert_exporter": "python",
   "pygments_lexer": "ipython3",
   "version": "3.7.7"
  }
 },
 "nbformat": 4,
 "nbformat_minor": 4
}
